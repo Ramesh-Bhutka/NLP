{
 "cells": [
  {
   "cell_type": "markdown",
   "id": "metropolitan-serum",
   "metadata": {},
   "source": [
    "## Practical 1 \n",
    "- A. Install NLTK\n",
    "- B. Convert the given text to speech\n",
    "- C. Convert audio file Speech to Text."
   ]
  },
  {
   "cell_type": "code",
   "execution_count": 3,
   "id": "higher-somalia",
   "metadata": {},
   "outputs": [
    {
     "name": "stdout",
     "output_type": "stream",
     "text": [
      "NAME:- RAMESH BHUTKA\n",
      "SAP ID:- 5300419003\n"
     ]
    }
   ],
   "source": [
    "print(\"NAME:- RAMESH BHUTKA\")\n",
    "print(\"SAP ID:- 5300419003\")"
   ]
  },
  {
   "cell_type": "markdown",
   "id": "atmospheric-logic",
   "metadata": {},
   "source": [
    "### Convert the given text to speech"
   ]
  },
  {
   "cell_type": "code",
   "execution_count": 4,
   "id": "focused-shell",
   "metadata": {},
   "outputs": [],
   "source": [
    "from gtts import gTTS \n",
    "import os\n",
    "\n",
    "text = '''A 16-year-old boy from Pune in Maharashtra has gone viral on social media for capturing one of the most beautiful \n",
    "        and detailed images of the Moon. He created the three-dimensional shot by composting more than 50,000 images, \n",
    "        which was over 186 GigaBytes of data that almost killed his laptop during the processing.'''\n",
    "language = \"en\"\n",
    "speech = gTTS(text = text, lang = language, slow = False)\n",
    "speech.save(\"text.mp3\")\n",
    "# os.system(\"text.mp3\")"
   ]
  },
  {
   "cell_type": "markdown",
   "id": "equivalent-stack",
   "metadata": {},
   "source": [
    "### Convert audio file Speech to Text."
   ]
  },
  {
   "cell_type": "code",
   "execution_count": 1,
   "id": "closing-mission",
   "metadata": {},
   "outputs": [
    {
     "name": "stdout",
     "output_type": "stream",
     "text": [
      "The audio file contains: \n",
      "the still smell of old beer drinkers it takes hi to bring out the order I called it yourself invest a salt a kotess find the M tacos Al pastor my favourite is just for food is Bihar cross bun\n"
     ]
    }
   ],
   "source": [
    "import speech_recognition as sr\n",
    "\n",
    "AUDIO_FILE = (\"harvard.wav\")\n",
    "\n",
    "# use the audio file as the audio source\n",
    "r = sr.Recognizer()\n",
    "with sr.AudioFile(AUDIO_FILE) as source:\n",
    "\t#reads the audio file. Here we use record instead of\n",
    "\t#listen\n",
    "\taudio = r.record(source)\n",
    "\n",
    "try:\n",
    "\tprint(\"The audio file contains: \\n\" + r.recognize_google(audio))\n",
    "\n",
    "except sr.UnknownValueError:\n",
    "\tprint(\"Google Speech Recognition could not understand audio\")\n",
    "\n",
    "except sr.RequestError as e:\n",
    "\tprint(\"Could not request results from Google Speech Recognition service; {0}\".format(e))\n"
   ]
  },
  {
   "cell_type": "code",
   "execution_count": 1,
   "id": "russian-notification",
   "metadata": {},
   "outputs": [
    {
     "name": "stdout",
     "output_type": "stream",
     "text": [
      "Text: the still smell of old beer drinkers it takes hi to bring out the order I called it yourself invest a salt a kotess find the M tacos Al pastor my favourite is just for food is Bihar cross bun\n"
     ]
    }
   ],
   "source": [
    "import speech_recognition as sr\n",
    "\n",
    "filename=\"harvard.wav\"\n",
    "\n",
    "r = sr.Recognizer()\n",
    "with sr.AudioFile(filename) as source:\n",
    "    audio = r.record(source)\n",
    "\n",
    "try:\n",
    "    s = r.recognize_google(audio)\n",
    "    print(\"Text: \"+s)\n",
    "except Exception as e:\n",
    "    print(\"Exception: \"+str(e))\n",
    "\n"
   ]
  },
  {
   "cell_type": "code",
   "execution_count": null,
   "id": "developmental-watch",
   "metadata": {},
   "outputs": [],
   "source": []
  }
 ],
 "metadata": {
  "kernelspec": {
   "display_name": "Python 3",
   "language": "python",
   "name": "python3"
  },
  "language_info": {
   "codemirror_mode": {
    "name": "ipython",
    "version": 3
   },
   "file_extension": ".py",
   "mimetype": "text/x-python",
   "name": "python",
   "nbconvert_exporter": "python",
   "pygments_lexer": "ipython3",
   "version": "3.8.7"
  }
 },
 "nbformat": 4,
 "nbformat_minor": 5
}
