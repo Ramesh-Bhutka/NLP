{
 "cells": [
  {
   "cell_type": "markdown",
   "id": "incorrect-placement",
   "metadata": {},
   "source": [
    "## Practical 3 B\n",
    "### Study lemmas, hyponyms, hypernyms, entailments,"
   ]
  },
  {
   "cell_type": "code",
   "execution_count": 1,
   "id": "pregnant-tender",
   "metadata": {},
   "outputs": [
    {
     "name": "stdout",
     "output_type": "stream",
     "text": [
      "NAME:- RAMESH BHUTKA\n",
      "SAP ID:- 5300419003\n"
     ]
    }
   ],
   "source": [
    "print(\"NAME:- RAMESH BHUTKA\")\n",
    "print(\"SAP ID:- 5300419003\")"
   ]
  },
  {
   "cell_type": "code",
   "execution_count": 2,
   "id": "reported-handy",
   "metadata": {},
   "outputs": [],
   "source": [
    "from nltk.corpus import wordnet as wn"
   ]
  },
  {
   "cell_type": "code",
   "execution_count": 3,
   "id": "marked-ozone",
   "metadata": {},
   "outputs": [
    {
     "data": {
      "text/plain": [
       "[Synset('car.n.01')]"
      ]
     },
     "execution_count": 3,
     "metadata": {},
     "output_type": "execute_result"
    }
   ],
   "source": [
    "wn.synsets('motorcar')"
   ]
  },
  {
   "cell_type": "code",
   "execution_count": 4,
   "id": "damaged-tactics",
   "metadata": {},
   "outputs": [
    {
     "data": {
      "text/plain": [
       "['car', 'auto', 'automobile', 'machine', 'motorcar']"
      ]
     },
     "execution_count": 4,
     "metadata": {},
     "output_type": "execute_result"
    }
   ],
   "source": [
    "wn.synset('car.n.01').lemma_names()"
   ]
  },
  {
   "cell_type": "code",
   "execution_count": 5,
   "id": "proper-founder",
   "metadata": {},
   "outputs": [
    {
     "data": {
      "text/plain": [
       "[Synset('printer.n.01'), Synset('printer.n.02'), Synset('printer.n.03')]"
      ]
     },
     "execution_count": 5,
     "metadata": {},
     "output_type": "execute_result"
    }
   ],
   "source": [
    "wn.synsets('printer')"
   ]
  },
  {
   "cell_type": "code",
   "execution_count": 6,
   "id": "unique-savage",
   "metadata": {},
   "outputs": [
    {
     "name": "stdout",
     "output_type": "stream",
     "text": [
      "\tLemma: printer.n.01\n",
      "\tDefinition: someone whose occupation is printing\n",
      "\tExample: []\n",
      "\tLemma: printer.n.02\n",
      "\tDefinition: (computer science) an output device that prints the results of data processing\n",
      "\tExample: []\n",
      "\tLemma: printer.n.03\n",
      "\tDefinition: a machine that prints\n",
      "\tExample: []\n"
     ]
    }
   ],
   "source": [
    "for synset in wn.synsets('printer'):\n",
    "    print(\"\\tLemma: {}\".format(synset.name()))\n",
    "    print(\"\\tDefinition: {}\".format(synset.definition()))\n",
    "    print(\"\\tExample: {}\".format(synset.examples()))"
   ]
  },
  {
   "cell_type": "code",
   "execution_count": 7,
   "id": "romance-devices",
   "metadata": {},
   "outputs": [
    {
     "data": {
      "text/plain": [
       "[Lemma('printer.n.01.printer'), Lemma('printer.n.01.pressman')]"
      ]
     },
     "execution_count": 7,
     "metadata": {},
     "output_type": "execute_result"
    }
   ],
   "source": [
    "wn.synset('printer.n.01').lemmas()"
   ]
  },
  {
   "cell_type": "code",
   "execution_count": 8,
   "id": "authentic-isolation",
   "metadata": {},
   "outputs": [
    {
     "data": {
      "text/plain": [
       "[Lemma('printer.n.02.printer')]"
      ]
     },
     "execution_count": 8,
     "metadata": {},
     "output_type": "execute_result"
    }
   ],
   "source": [
    "wn.synset('printer.n.02').lemmas()"
   ]
  },
  {
   "cell_type": "code",
   "execution_count": 9,
   "id": "mediterranean-lucas",
   "metadata": {},
   "outputs": [
    {
     "data": {
      "text/plain": [
       "[Lemma('printer.n.03.printer'), Lemma('printer.n.03.printing_machine')]"
      ]
     },
     "execution_count": 9,
     "metadata": {},
     "output_type": "execute_result"
    }
   ],
   "source": [
    "wn.synset('printer.n.03').lemmas()"
   ]
  },
  {
   "cell_type": "markdown",
   "id": "collected-worship",
   "metadata": {},
   "source": [
    "NLTK makes it easy to navigate between concepts in different directions by using some special terms.\n",
    "\n",
    "    Hyponym — a more specific concept\n",
    "\n",
    "For example let’s see what are the hyponyms of lemma printer.n.03 which is defined as \"a machine that prints\":"
   ]
  },
  {
   "cell_type": "code",
   "execution_count": 10,
   "id": "random-straight",
   "metadata": {},
   "outputs": [
    {
     "data": {
      "text/plain": [
       "['Addressograph',\n",
       " 'addressing_machine',\n",
       " 'character-at-a-time_printer',\n",
       " 'character_printer',\n",
       " 'electrostatic_printer',\n",
       " 'impact_printer',\n",
       " 'line-at-a-time_printer',\n",
       " 'line_printer',\n",
       " 'page-at-a-time_printer',\n",
       " 'page_printer',\n",
       " 'printer',\n",
       " 'serial_printer',\n",
       " 'thermal_printer',\n",
       " 'typesetting_machine']"
      ]
     },
     "execution_count": 10,
     "metadata": {},
     "output_type": "execute_result"
    }
   ],
   "source": [
    "machine_that_prints = wn.synset('printer.n.03')\n",
    "sorted([lemma.name() for synset in machine_that_prints.hyponyms() for lemma in synset.lemmas()])"
   ]
  },
  {
   "cell_type": "markdown",
   "id": "soviet-fleece",
   "metadata": {},
   "source": [
    "We can also go in the opposite way — towards the most general concept.\n",
    "\n",
    "    Hypernym — a more general concept.\n",
    "\n",
    "Let’s inspect it’s value for the example above:"
   ]
  },
  {
   "cell_type": "code",
   "execution_count": 11,
   "id": "configured-preserve",
   "metadata": {},
   "outputs": [
    {
     "data": {
      "text/plain": [
       "['machine']"
      ]
     },
     "execution_count": 11,
     "metadata": {},
     "output_type": "execute_result"
    }
   ],
   "source": [
    "[lemma.name() for synset in  machine_that_prints.hypernyms() for lemma in synset.lemmas()]"
   ]
  },
  {
   "cell_type": "markdown",
   "id": "municipal-simulation",
   "metadata": {},
   "source": [
    "In this case, a more abstract term of printer machine is just a machine.\n",
    "\n",
    "We can also obtain a top level hypernym (in this case entity.n.01) and complete path of words it takes to get to it:"
   ]
  },
  {
   "cell_type": "code",
   "execution_count": 12,
   "id": "unable-usage",
   "metadata": {},
   "outputs": [
    {
     "data": {
      "text/plain": [
       "[Synset('entity.n.01')]"
      ]
     },
     "execution_count": 12,
     "metadata": {},
     "output_type": "execute_result"
    }
   ],
   "source": [
    "machine_that_prints.root_hypernyms()"
   ]
  },
  {
   "cell_type": "code",
   "execution_count": 13,
   "id": "regional-pantyhose",
   "metadata": {},
   "outputs": [
    {
     "data": {
      "text/plain": [
       "['entity.n.01',\n",
       " 'physical_entity.n.01',\n",
       " 'object.n.01',\n",
       " 'whole.n.02',\n",
       " 'artifact.n.01',\n",
       " 'instrumentality.n.03',\n",
       " 'device.n.01',\n",
       " 'machine.n.01',\n",
       " 'printer.n.03']"
      ]
     },
     "execution_count": 13,
     "metadata": {},
     "output_type": "execute_result"
    }
   ],
   "source": [
    "[synset.name() for synset in machine_that_prints.hypernym_paths()[0]]"
   ]
  },
  {
   "cell_type": "markdown",
   "id": "requested-sequence",
   "metadata": {},
   "source": [
    "Both hyponyms and hypernyms are called lexical relations. They form so-called “is-a” relationship between synsets.\n",
    "\n",
    "There is also another way to navigate through WordNet — from components of items (meronyms) or to the things they are contained in (holonyms).\n",
    "\n",
    "    Meronym — denotes a part of something\n",
    "\n",
    "For meronyms we can take advantage of two NLTK’s functions:\n",
    "\n",
    "    part_meronyms() - obtains parts,\n",
    "    substance_meronyms() - obtains substances"
   ]
  },
  {
   "cell_type": "code",
   "execution_count": 14,
   "id": "amazing-standing",
   "metadata": {},
   "outputs": [
    {
     "data": {
      "text/plain": [
       "[Synset('burl.n.02'),\n",
       " Synset('crown.n.07'),\n",
       " Synset('limb.n.02'),\n",
       " Synset('stump.n.01'),\n",
       " Synset('trunk.n.01')]"
      ]
     },
     "execution_count": 14,
     "metadata": {},
     "output_type": "execute_result"
    }
   ],
   "source": [
    "tree = wn.synset('tree.n.01')\n",
    "tree.part_meronyms()"
   ]
  },
  {
   "cell_type": "code",
   "execution_count": 15,
   "id": "large-slovenia",
   "metadata": {},
   "outputs": [
    {
     "data": {
      "text/plain": [
       "[Synset('heartwood.n.01'), Synset('sapwood.n.01')]"
      ]
     },
     "execution_count": 15,
     "metadata": {},
     "output_type": "execute_result"
    }
   ],
   "source": [
    "tree.substance_meronyms()"
   ]
  },
  {
   "cell_type": "markdown",
   "id": "cutting-canberra",
   "metadata": {},
   "source": [
    "On the other side we have holonyms:\n",
    "\n",
    "    Holonym — denotes a membership to something\n",
    "\n",
    "Like above here we also have 2 functions available — part_holonyms() and substance_holonyms().\n",
    "\n",
    "You can see how they work for words like atom and hydrogen."
   ]
  },
  {
   "cell_type": "code",
   "execution_count": 16,
   "id": "pharmaceutical-diversity",
   "metadata": {},
   "outputs": [
    {
     "data": {
      "text/plain": [
       "[Synset('chemical_element.n.01'), Synset('molecule.n.01')]"
      ]
     },
     "execution_count": 16,
     "metadata": {},
     "output_type": "execute_result"
    }
   ],
   "source": [
    "wn.synset('atom.n.01').part_holonyms()"
   ]
  },
  {
   "cell_type": "code",
   "execution_count": 17,
   "id": "sought-payment",
   "metadata": {},
   "outputs": [
    {
     "data": {
      "text/plain": [
       "[Synset('water.n.01')]"
      ]
     },
     "execution_count": 17,
     "metadata": {},
     "output_type": "execute_result"
    }
   ],
   "source": [
    "wn.synset('hydrogen.n.01').substance_holonyms()"
   ]
  },
  {
   "cell_type": "markdown",
   "id": "provincial-cambridge",
   "metadata": {},
   "source": [
    "There is also a relationship specific to verbs — entailments.\n",
    "\n",
    "    Entailment — denotes how verbs are involved\n",
    "\n",
    "You can obtain them using the entailments() function."
   ]
  },
  {
   "cell_type": "code",
   "execution_count": 18,
   "id": "stainless-rotation",
   "metadata": {},
   "outputs": [
    {
     "data": {
      "text/plain": [
       "[Synset('chew.v.01'), Synset('swallow.v.01')]"
      ]
     },
     "execution_count": 18,
     "metadata": {},
     "output_type": "execute_result"
    }
   ],
   "source": [
    "wn.synset('eat.v.01').entailments()"
   ]
  },
  {
   "cell_type": "markdown",
   "id": "welcome-slovak",
   "metadata": {},
   "source": [
    "Check what words truck and limousine have in common:"
   ]
  },
  {
   "cell_type": "code",
   "execution_count": 19,
   "id": "prescribed-strike",
   "metadata": {},
   "outputs": [
    {
     "data": {
      "text/plain": [
       "[Synset('motor_vehicle.n.01')]"
      ]
     },
     "execution_count": 19,
     "metadata": {},
     "output_type": "execute_result"
    }
   ],
   "source": [
    "truck = wn.synset('truck.n.01')\n",
    "limousine = wn.synset('limousine.n.01')\n",
    " \n",
    "truck.lowest_common_hypernyms(limousine)"
   ]
  },
  {
   "cell_type": "code",
   "execution_count": 20,
   "id": "amateur-value",
   "metadata": {},
   "outputs": [
    {
     "name": "stdout",
     "output_type": "stream",
     "text": [
      "0\n",
      "10\n",
      "14\n",
      "15\n"
     ]
    }
   ],
   "source": [
    "print(wn.synset('entity.n.01').min_depth())\n",
    "print(wn.synset('car.n.01').min_depth())\n",
    "print(wn.synset('horse.n.01').min_depth())\n",
    "print(wn.synset('mare.n.01').min_depth())"
   ]
  }
 ],
 "metadata": {
  "kernelspec": {
   "display_name": "Python 3",
   "language": "python",
   "name": "python3"
  },
  "language_info": {
   "codemirror_mode": {
    "name": "ipython",
    "version": 3
   },
   "file_extension": ".py",
   "mimetype": "text/x-python",
   "name": "python",
   "nbconvert_exporter": "python",
   "pygments_lexer": "ipython3",
   "version": "3.8.7"
  }
 },
 "nbformat": 4,
 "nbformat_minor": 5
}
