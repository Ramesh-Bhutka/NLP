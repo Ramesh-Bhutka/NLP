{
 "cells": [
  {
   "cell_type": "markdown",
   "id": "developing-evolution",
   "metadata": {},
   "source": [
    "## Practical 2 B\n",
    "### Create and use your own corpora(plaintext, categorical)"
   ]
  },
  {
   "cell_type": "code",
   "execution_count": 1,
   "id": "advance-authorization",
   "metadata": {},
   "outputs": [
    {
     "name": "stdout",
     "output_type": "stream",
     "text": [
      "NAME:- RAMESH BHUTKA\n",
      "SAP ID:- 5300419003\n"
     ]
    }
   ],
   "source": [
    "print(\"NAME:- RAMESH BHUTKA\")\n",
    "print(\"SAP ID:- 5300419003\")"
   ]
  },
  {
   "cell_type": "code",
   "execution_count": 1,
   "id": "present-patient",
   "metadata": {},
   "outputs": [
    {
     "name": "stdout",
     "output_type": "stream",
     "text": [
      "['1.txt', '2.txt']\n",
      "\n",
      " Lorem Ipsum has been the industry's standard dummy text ever since the 1500s, when an unknown printer took a galley of type and scrambled it to make a type specimen book. It has survived not only five centuries, but also the leap into electronic typesetting, remaining essentially unchanged. file1.txt\n",
      "\n",
      " Natural language processing is a subfield of linguistics, computer science, and artificial intelligence concerned with the interactions between computers and human language, in particular how to program computers to process and analyze large amounts of natural language data file2.txt\n"
     ]
    }
   ],
   "source": [
    "from nltk.corpus import PlaintextCorpusReader\n",
    "corpus_root = 'NewCorpus-2B/'\n",
    "wordlists = PlaintextCorpusReader(corpus_root, '.*')\n",
    "print(wordlists.fileids())\n",
    "files=['file1.txt', 'file2.txt']\n",
    "filename=0\n",
    "for text in files:\n",
    "    filename+=1\n",
    "    with open(corpus_root+str(filename)+'.txt','r') as fout:\n",
    "        print(\"\\n\",fout.read(), text)"
   ]
  },
  {
   "cell_type": "code",
   "execution_count": null,
   "id": "industrial-customs",
   "metadata": {},
   "outputs": [],
   "source": []
  }
 ],
 "metadata": {
  "kernelspec": {
   "display_name": "Python 3",
   "language": "python",
   "name": "python3"
  },
  "language_info": {
   "codemirror_mode": {
    "name": "ipython",
    "version": 3
   },
   "file_extension": ".py",
   "mimetype": "text/x-python",
   "name": "python",
   "nbconvert_exporter": "python",
   "pygments_lexer": "ipython3",
   "version": "3.8.7"
  }
 },
 "nbformat": 4,
 "nbformat_minor": 5
}
