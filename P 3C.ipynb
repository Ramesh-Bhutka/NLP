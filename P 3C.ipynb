{
 "cells": [
  {
   "cell_type": "markdown",
   "id": "conventional-phrase",
   "metadata": {},
   "source": [
    "## Practical 3 C\n",
    "### Write a program using python to find synonym and antonym of word \"active\" using Wordnet"
   ]
  },
  {
   "cell_type": "code",
   "execution_count": 4,
   "id": "rough-longer",
   "metadata": {},
   "outputs": [
    {
     "name": "stdout",
     "output_type": "stream",
     "text": [
      "NAME:- RAMESH BHUTKA\n",
      "SAP ID:- 5300419003\n"
     ]
    }
   ],
   "source": [
    "print(\"NAME:- RAMESH BHUTKA\")\n",
    "print(\"SAP ID:- 5300419003\")"
   ]
  },
  {
   "cell_type": "code",
   "execution_count": 3,
   "id": "coordinate-campaign",
   "metadata": {},
   "outputs": [
    {
     "name": "stdout",
     "output_type": "stream",
     "text": [
      "synonyms : -> {'active', 'dynamic', 'fighting', 'active_voice', 'active_agent', 'combat-ready', 'alive', 'participating'}\n",
      "antonyms : -> {'passive', 'inactive', 'stative', 'dormant', 'extinct', 'passive_voice', 'quiet'}\n"
     ]
    }
   ],
   "source": [
    "import nltk\n",
    "from nltk.corpus import wordnet\n",
    "synonyms = []\n",
    "antonyms = []\n",
    "  \n",
    "for syn in wordnet.synsets(\"active\"):\n",
    "    for l in syn.lemmas():\n",
    "        synonyms.append(l.name())\n",
    "        if l.antonyms():\n",
    "            antonyms.append(l.antonyms()[0].name())\n",
    "  \n",
    "\n",
    "print('synonyms : ->',set(synonyms))\n",
    "print('antonyms : ->',set(antonyms))\n"
   ]
  },
  {
   "cell_type": "code",
   "execution_count": null,
   "id": "compatible-frederick",
   "metadata": {},
   "outputs": [],
   "source": []
  }
 ],
 "metadata": {
  "kernelspec": {
   "display_name": "Python 3",
   "language": "python",
   "name": "python3"
  },
  "language_info": {
   "codemirror_mode": {
    "name": "ipython",
    "version": 3
   },
   "file_extension": ".py",
   "mimetype": "text/x-python",
   "name": "python",
   "nbconvert_exporter": "python",
   "pygments_lexer": "ipython3",
   "version": "3.8.7"
  }
 },
 "nbformat": 4,
 "nbformat_minor": 5
}
