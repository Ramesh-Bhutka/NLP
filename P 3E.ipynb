{
 "cells": [
  {
   "cell_type": "markdown",
   "id": "american-farming",
   "metadata": {},
   "source": [
    "## Practical 3 E\n",
    "### Handling stopword. \n",
    "- Using nltk Adding or Removing Stop Words in NLTK's Default Stop Word List\n",
    "- Using Gensim Adding and Removing Stop Words in Default Gensim Stop Words List\n",
    "- Using Spacy Adding and Removing Stop Words in Default Spacy Stop Words List"
   ]
  },
  {
   "cell_type": "code",
   "execution_count": 8,
   "id": "written-cancer",
   "metadata": {},
   "outputs": [],
   "source": [
    "# https://stackabuse.com/removing-stop-words-from-strings-in-python/#usingpythonsnltklibrary"
   ]
  },
  {
   "cell_type": "code",
   "execution_count": 9,
   "id": "abroad-machine",
   "metadata": {},
   "outputs": [
    {
     "name": "stdout",
     "output_type": "stream",
     "text": [
      "NAME:- RAMESH BHUTKA\n",
      "SAP ID:- 5300419003\n"
     ]
    }
   ],
   "source": [
    "print(\"NAME:- RAMESH BHUTKA\")\n",
    "print(\"SAP ID:- 5300419003\")"
   ]
  },
  {
   "cell_type": "markdown",
   "id": "welsh-martin",
   "metadata": {},
   "source": [
    "## NLTK Library"
   ]
  },
  {
   "cell_type": "code",
   "execution_count": 10,
   "id": "exact-spanish",
   "metadata": {},
   "outputs": [
    {
     "name": "stdout",
     "output_type": "stream",
     "text": [
      "['i', 'me', 'my', 'myself', 'we', 'our', 'ours', 'ourselves', 'you', \"you're\", \"you've\", \"you'll\", \"you'd\", 'your', 'yours', 'yourself', 'yourselves', 'he', 'him', 'his', 'himself', 'she', \"she's\", 'her', 'hers', 'herself', 'it', \"it's\", 'its', 'itself', 'they', 'them', 'their', 'theirs', 'themselves', 'what', 'which', 'who', 'whom', 'this', 'that', \"that'll\", 'these', 'those', 'am', 'is', 'are', 'was', 'were', 'be', 'been', 'being', 'have', 'has', 'had', 'having', 'do', 'does', 'did', 'doing', 'a', 'an', 'the', 'and', 'but', 'if', 'or', 'because', 'as', 'until', 'while', 'of', 'at', 'by', 'for', 'with', 'about', 'against', 'between', 'into', 'through', 'during', 'before', 'after', 'above', 'below', 'to', 'from', 'up', 'down', 'in', 'out', 'on', 'off', 'over', 'under', 'again', 'further', 'then', 'once', 'here', 'there', 'when', 'where', 'why', 'how', 'all', 'any', 'both', 'each', 'few', 'more', 'most', 'other', 'some', 'such', 'no', 'nor', 'not', 'only', 'own', 'same', 'so', 'than', 'too', 'very', 's', 't', 'can', 'will', 'just', 'don', \"don't\", 'should', \"should've\", 'now', 'd', 'll', 'm', 'o', 're', 've', 'y', 'ain', 'aren', \"aren't\", 'couldn', \"couldn't\", 'didn', \"didn't\", 'doesn', \"doesn't\", 'hadn', \"hadn't\", 'hasn', \"hasn't\", 'haven', \"haven't\", 'isn', \"isn't\", 'ma', 'mightn', \"mightn't\", 'mustn', \"mustn't\", 'needn', \"needn't\", 'shan', \"shan't\", 'shouldn', \"shouldn't\", 'wasn', \"wasn't\", 'weren', \"weren't\", 'won', \"won't\", 'wouldn', \"wouldn't\"]\n"
     ]
    }
   ],
   "source": [
    "from nltk.corpus import stopwords\n",
    "print(stopwords.words('english'))"
   ]
  },
  {
   "cell_type": "code",
   "execution_count": 11,
   "id": "available-reducing",
   "metadata": {},
   "outputs": [
    {
     "data": {
      "application/javascript": [
       "\n",
       "        if (window._pyforest_update_imports_cell) { window._pyforest_update_imports_cell('import nltk'); }\n",
       "    "
      ],
      "text/plain": [
       "<IPython.core.display.Javascript object>"
      ]
     },
     "metadata": {},
     "output_type": "display_data"
    },
    {
     "data": {
      "application/javascript": [
       "\n",
       "        if (window._pyforest_update_imports_cell) { window._pyforest_update_imports_cell('import nltk'); }\n",
       "    "
      ],
      "text/plain": [
       "<IPython.core.display.Javascript object>"
      ]
     },
     "metadata": {},
     "output_type": "display_data"
    },
    {
     "data": {
      "text/plain": [
       "0.735240435097661"
      ]
     },
     "execution_count": 11,
     "metadata": {},
     "output_type": "execute_result"
    }
   ],
   "source": [
    "# Let's define a function to compute what fraction of words in a text are not in the stopwords list:\n",
    "def content_fraction(text):\n",
    "    stopwords = nltk.corpus.stopwords.words('english')\n",
    "    content = [w for w in text if w.lower() not in stopwords]\n",
    "    return len(content) / len(text)\n",
    "content_fraction(nltk.corpus.reuters.words())"
   ]
  },
  {
   "cell_type": "code",
   "execution_count": 12,
   "id": "single-freeware",
   "metadata": {},
   "outputs": [
    {
     "name": "stdout",
     "output_type": "stream",
     "text": [
      "['Nick', 'likes', 'play', 'football', ',', 'however', 'fond', 'tennis', '.']\n"
     ]
    }
   ],
   "source": [
    "from nltk.corpus import stopwords\n",
    "#nltk.download('stopwords')\n",
    "from nltk.tokenize import word_tokenize\n",
    "\n",
    "text = \"Nick likes to play football, however he is not too fond of tennis.\"\n",
    "text_tokens = word_tokenize(text)\n",
    "\n",
    "tokens_without_sw = [word for word in text_tokens if not word in stopwords.words()]\n",
    "\n",
    "print(tokens_without_sw)"
   ]
  },
  {
   "cell_type": "markdown",
   "id": "understanding-gateway",
   "metadata": {},
   "source": [
    "You can see that the words to, he, is, not, and too have been removed from the sentence."
   ]
  },
  {
   "cell_type": "code",
   "execution_count": 13,
   "id": "minus-chile",
   "metadata": {},
   "outputs": [
    {
     "name": "stdout",
     "output_type": "stream",
     "text": [
      "Nick likes play football , however fond tennis .\n"
     ]
    }
   ],
   "source": [
    "filtered_sentence = (\" \").join(tokens_without_sw)\n",
    "print(filtered_sentence)"
   ]
  },
  {
   "cell_type": "code",
   "execution_count": 15,
   "id": "agricultural-greenhouse",
   "metadata": {},
   "outputs": [
    {
     "name": "stdout",
     "output_type": "stream",
     "text": [
      "['Nick', 'likes', 'football', ',', 'however', 'fond', 'tennis', '.']\n"
     ]
    }
   ],
   "source": [
    "all_stopwords = stopwords.words('english')\n",
    "all_stopwords.append('play')\n",
    "\n",
    "text_tokens = word_tokenize(text)\n",
    "tokens_without_sw = [word for word in text_tokens if not word in all_stopwords]\n",
    "\n",
    "print(tokens_without_sw)"
   ]
  },
  {
   "cell_type": "code",
   "execution_count": 16,
   "id": "representative-incidence",
   "metadata": {},
   "outputs": [
    {
     "name": "stdout",
     "output_type": "stream",
     "text": [
      "['Nick', 'football', ',', 'however', 'fond', 'tennis', '.']\n"
     ]
    }
   ],
   "source": [
    "sw_list = ['likes','play']\n",
    "all_stopwords.extend(sw_list)\n",
    "\n",
    "text_tokens = word_tokenize(text)\n",
    "tokens_without_sw = [word for word in text_tokens if not word in all_stopwords]\n",
    "\n",
    "print(tokens_without_sw)"
   ]
  },
  {
   "cell_type": "code",
   "execution_count": 17,
   "id": "isolated-ethernet",
   "metadata": {},
   "outputs": [
    {
     "name": "stdout",
     "output_type": "stream",
     "text": [
      "['Nick', 'likes', 'play', 'football', ',', 'however', 'not', 'fond', 'tennis', '.']\n"
     ]
    }
   ],
   "source": [
    "all_stopwords = stopwords.words('english')\n",
    "all_stopwords.remove('not')\n",
    "\n",
    "text_tokens = word_tokenize(text)\n",
    "tokens_without_sw = [word for word in text_tokens if not word in all_stopwords]\n",
    "\n",
    "print(tokens_without_sw)"
   ]
  },
  {
   "cell_type": "markdown",
   "id": "intense-language",
   "metadata": {},
   "source": [
    "## Gensim Library"
   ]
  },
  {
   "cell_type": "code",
   "execution_count": 18,
   "id": "hairy-casting",
   "metadata": {},
   "outputs": [],
   "source": [
    "# pip install gensim\n",
    "# pip install python-Levenshtein"
   ]
  },
  {
   "cell_type": "code",
   "execution_count": 19,
   "id": "velvet-respondent",
   "metadata": {},
   "outputs": [
    {
     "name": "stdout",
     "output_type": "stream",
     "text": [
      "Nick likes play football, fond tennis.\n"
     ]
    }
   ],
   "source": [
    "from gensim.parsing.preprocessing import remove_stopwords\n",
    "\n",
    "text = \"Nick likes to play football, however he is not too fond of tennis.\"\n",
    "filtered_sentence = remove_stopwords(text)\n",
    "\n",
    "print(filtered_sentence)"
   ]
  },
  {
   "cell_type": "code",
   "execution_count": 20,
   "id": "naked-ambassador",
   "metadata": {},
   "outputs": [
    {
     "name": "stdout",
     "output_type": "stream",
     "text": [
      "frozenset({'behind', 'an', 'that', 'eg', 'several', 'hers', 'whence', 'am', 'computer', 'must', 'latter', 'but', 'fifteen', 'others', 'various', 'whatever', 'what', 'are', 'become', 'well', 'anyway', 'sometimes', 'someone', 'detail', 'nowhere', 'as', 'made', 'twenty', 'namely', 'a', 'former', 'becomes', 'so', 'somehow', 'thereby', 'anyone', 'fifty', 'herself', 'almost', 'side', 'interest', 'together', 'alone', 'first', 'own', 'inc', 'while', 'move', 'anywhere', 'beforehand', 'less', 'those', 'nothing', 'is', 'even', 'six', 'using', 'give', 'many', 'into', 'keep', 'does', 'beside', 'least', 'his', 'never', 'per', 'themselves', 'whoever', 'fire', 'above', 'seems', 'its', 'during', 'please', 'throughout', 'for', 'nevertheless', 'next', 'system', 'neither', 'any', 'thence', 'seem', 'by', 'your', 'no', 'part', 'since', 'sometime', 'yours', 'might', 'anyhow', 'due', 'around', 'after', 'whereas', 'before', 'except', 'eleven', 'see', 'found', 'top', 'who', 'with', 'often', 'whole', 'such', 'once', 'kg', 'one', 'off', 'through', 'other', 'until', 'very', 'via', 'towards', 'whose', 'became', 'been', 'few', 'from', 'our', 'yet', 'thus', 'mill', 'afterwards', 'i', 'used', 'herein', 'within', 'bill', 'besides', 'amount', 'somewhere', 'him', 'my', 'hereby', 'when', 'last', 'moreover', 'ourselves', 'everywhere', 'everyone', 'two', 'us', 'the', 'eight', 'most', 'either', 'de', 'three', 'whereby', 'call', 'else', 'done', 'front', 'below', 'can', 'however', 'along', 'this', 'formerly', 'hundred', 'had', 'we', 'among', 'up', 'whether', 'still', 'each', 'because', 'already', 'unless', 'show', 'hasnt', 'was', 'could', 'twelve', 'make', 'third', 'her', 'how', 'wherever', 'always', 'nor', 'none', 'there', 'thick', 'why', 'sixty', 'at', 'did', 'everything', 'whither', 'you', 'to', 'where', 'although', 'rather', 'another', 'quite', 'out', 'itself', 'indeed', 'anything', 'thereupon', 'ltd', 're', 'fill', 'under', 'find', 'name', 'which', 'much', 'were', 'yourself', 'bottom', 'whenever', 'nine', 'whereafter', 'latterly', 'get', 'she', 'of', 'nobody', 'regarding', 'whereupon', 'put', 'or', 'being', 'back', 'than', 'upon', 'km', 'forty', 'just', 'himself', 'more', 'take', 'hence', 'may', 'meanwhile', 'myself', 'enough', 'seemed', 'describe', 'elsewhere', 'toward', 'they', 'whom', 'otherwise', 'would', 'empty', 'here', 'some', 'should', 'wherein', 'say', 'has', 'con', 'them', 'perhaps', 'across', 'thru', 'me', 'if', 'amongst', 'these', 'didn', 'four', 'go', 'same', 'down', 'further', 'between', 'un', 'only', 'really', 'sincere', 'do', 'both', 'now', 'their', 'becoming', 'hereupon', 'thin', 'mostly', 'every', 'again', 'without', 'ours', 'and', 'etc', 'something', 'co', 'be', 'full', 'mine', 'in', 'amoungst', 'will', 'he', 'then', 'cannot', 'all', 'not', 'ever', 'therein', 'ten', 'doesn', 'on', 'beyond', 'about', 'serious', 'don', 'over', 'seeming', 'against', 'ie', 'also', 'though', 'doing', 'onto', 'therefore', 'couldnt', 'too', 'it', 'hereafter', 'yourselves', 'noone', 'cry', 'five', 'cant', 'thereafter', 'have'})\n"
     ]
    }
   ],
   "source": [
    "import gensim\n",
    "all_stopwords = gensim.parsing.preprocessing.STOPWORDS\n",
    "print(all_stopwords)"
   ]
  },
  {
   "cell_type": "code",
   "execution_count": 21,
   "id": "finished-andrew",
   "metadata": {},
   "outputs": [
    {
     "name": "stdout",
     "output_type": "stream",
     "text": [
      "['Nick', 'football', ',', 'fond', 'tennis', '.']\n"
     ]
    }
   ],
   "source": [
    "from gensim.parsing.preprocessing import STOPWORDS\n",
    "\n",
    "all_stopwords_gensim = STOPWORDS.union(set(['likes', 'play']))\n",
    "\n",
    "text = \"Nick likes to play football, however he is not too fond of tennis.\"\n",
    "text_tokens = word_tokenize(text)\n",
    "tokens_without_sw = [word for word in text_tokens if not word in all_stopwords_gensim]\n",
    "\n",
    "print(tokens_without_sw)"
   ]
  },
  {
   "cell_type": "code",
   "execution_count": 22,
   "id": "formal-stationery",
   "metadata": {},
   "outputs": [
    {
     "name": "stdout",
     "output_type": "stream",
     "text": [
      "['Nick', 'likes', 'play', 'football', ',', 'not', 'fond', 'tennis', '.']\n"
     ]
    }
   ],
   "source": [
    "from gensim.parsing.preprocessing import STOPWORDS\n",
    "\n",
    "all_stopwords_gensim = STOPWORDS\n",
    "sw_list = {\"not\"}\n",
    "all_stopwords_gensim = STOPWORDS.difference(sw_list)\n",
    "\n",
    "text = \"Nick likes to play football, however he is not too fond of tennis.\"\n",
    "text_tokens = word_tokenize(text)\n",
    "tokens_without_sw = [word for word in text_tokens if not word in all_stopwords_gensim]\n",
    "\n",
    "print(tokens_without_sw)"
   ]
  },
  {
   "cell_type": "code",
   "execution_count": null,
   "id": "equivalent-sacramento",
   "metadata": {},
   "outputs": [],
   "source": []
  },
  {
   "cell_type": "markdown",
   "id": "responsible-internship",
   "metadata": {},
   "source": [
    "## SpaCy Library"
   ]
  },
  {
   "cell_type": "code",
   "execution_count": 27,
   "id": "matched-holiday",
   "metadata": {},
   "outputs": [],
   "source": [
    "# pip install spacy\n",
    "# python -m spacy download en"
   ]
  },
  {
   "cell_type": "code",
   "execution_count": 28,
   "id": "listed-ontario",
   "metadata": {},
   "outputs": [
    {
     "name": "stdout",
     "output_type": "stream",
     "text": [
      "['Nick', 'likes', 'play', 'football', ',', 'fond', 'tennis', '.']\n"
     ]
    }
   ],
   "source": [
    "import spacy\n",
    "sp = spacy.load('en_core_web_sm')\n",
    "\n",
    "all_stopwords = sp.Defaults.stop_words\n",
    "\n",
    "text = \"Nick likes to play football, however he is not too fond of tennis.\"\n",
    "text_tokens = word_tokenize(text)\n",
    "tokens_without_sw= [word for word in text_tokens if not word in all_stopwords]\n",
    "\n",
    "print(tokens_without_sw)"
   ]
  },
  {
   "cell_type": "code",
   "execution_count": 29,
   "id": "faced-apparel",
   "metadata": {},
   "outputs": [
    {
     "name": "stdout",
     "output_type": "stream",
     "text": [
      "326\n",
      "{'behind', 'an', 'that', 'several', 'hers', 'whence', 'am', 'must', 'latter', 'but', 'fifteen', \"'s\", 'others', 'various', 'whatever', 'what', \"n't\", 'are', 'become', 'well', 'anyway', 'sometimes', '’s', 'someone', 'nowhere', 'as', 'made', 'twenty', 'namely', 'a', 'former', 'becomes', 'so', 'somehow', 'thereby', 'anyone', 'fifty', 'almost', 'herself', 'side', 'together', 'alone', 'first', 'own', 'while', 'move', 'anywhere', 'beforehand', 'less', 'those', 'nothing', 'is', 'even', 'six', 'using', 'give', 'many', 'into', 'keep', 'does', 'beside', 'least', 'his', 'never', 'per', 'themselves', '‘d', 'whoever', 'above', 'n’t', 'seems', 'its', 'during', 'please', 'throughout', 'for', 'nevertheless', 'n‘t', 'next', '’d', 'neither', 'any', 'thence', 'seem', '’re', 'by', 'your', 'no', 'part', 'since', 'sometime', 'yours', 'might', 'anyhow', 'due', 'around', 'after', 'whereas', 'before', 'except', 'eleven', 'see', 'top', 'who', 'with', 'often', 'whole', 'such', 'once', 'one', 'off', 'through', 'other', 'until', 'very', 'via', 'towards', 'became', 'whose', 'been', 'few', 'from', 'our', 'yet', 'thus', 'afterwards', 'i', 'used', 'herein', 'within', '‘s', 'besides', 'amount', 'somewhere', 'him', \"'d\", 'my', 'hereby', 'when', 'last', '‘m', 'moreover', 'ourselves', 'everywhere', 'everyone', 'two', 'us', 'the', 'eight', 'ca', 'most', \"'re\", 'either', 'three', 'whereby', \"'m\", 'call', 'else', 'done', 'front', 'below', 'however', 'can', 'along', 'this', 'formerly', 'hundred', 'had', 'we', 'among', 'up', 'whether', 'still', 'because', 'each', 'already', 'unless', 'show', '’ve', '’m', 'was', 'could', 'twelve', 'make', 'third', 'her', 'how', 'wherever', 'always', 'nor', 'none', '‘re', '‘ve', 'there', '’ll', 'why', 'sixty', 'at', 'did', 'everything', 'whither', 'you', \"'ll\", 'to', 'where', 'although', 'rather', 'another', 'quite', 'out', 'itself', \"'ve\", 'anything', 'indeed', 'thereupon', 're', 'under', 'name', 'which', 'much', 'were', 'yourself', 'bottom', 'whenever', 'nine', 'whereafter', 'latterly', 'get', 'she', 'of', 'nobody', 'regarding', 'whereupon', 'put', 'or', 'being', 'back', 'than', 'upon', 'forty', 'himself', 'just', 'more', 'take', 'hence', 'may', 'meanwhile', 'myself', 'enough', 'seemed', 'elsewhere', 'toward', 'they', 'whom', 'otherwise', 'would', 'empty', 'here', 'some', 'should', 'wherein', 'say', 'has', 'perhaps', 'them', 'across', 'me', 'thru', 'if', 'amongst', 'these', 'four', 'go', 'same', 'down', 'further', 'between', 'only', 'really', 'both', 'do', 'now', 'their', 'becoming', 'hereupon', 'mostly', 'every', 'again', 'without', 'ours', 'and', 'something', 'be', 'full', 'mine', 'in', '‘ll', 'will', 'he', 'then', 'cannot', 'all', 'not', 'ever', 'therein', 'ten', 'on', 'beyond', 'about', 'serious', 'against', 'over', 'seeming', 'also', 'though', 'doing', 'onto', 'therefore', 'too', 'it', 'hereafter', 'yourselves', 'noone', 'five', 'thereafter', 'have'}\n"
     ]
    }
   ],
   "source": [
    "print(len(all_stopwords))\n",
    "print(all_stopwords)"
   ]
  },
  {
   "cell_type": "code",
   "execution_count": 30,
   "id": "spread-valley",
   "metadata": {},
   "outputs": [
    {
     "name": "stdout",
     "output_type": "stream",
     "text": [
      "['Nick', 'likes', 'play', 'football', ',', 'fond', '.']\n"
     ]
    }
   ],
   "source": [
    "import spacy\n",
    "sp = spacy.load('en_core_web_sm')\n",
    "\n",
    "all_stopwords = sp.Defaults.stop_words\n",
    "all_stopwords.add(\"tennis\")\n",
    "\n",
    "text = \"Nick likes to play football, however he is not too fond of tennis.\"\n",
    "text_tokens = word_tokenize(text)\n",
    "tokens_without_sw = [word for word in text_tokens if not word in all_stopwords]\n",
    "\n",
    "print(tokens_without_sw)"
   ]
  },
  {
   "cell_type": "code",
   "execution_count": 31,
   "id": "internal-virus",
   "metadata": {},
   "outputs": [
    {
     "name": "stdout",
     "output_type": "stream",
     "text": [
      "['Nick', 'play', 'football', ',', 'fond', '.']\n"
     ]
    }
   ],
   "source": [
    "import spacy\n",
    "sp = spacy.load('en_core_web_sm')\n",
    "\n",
    "all_stopwords = sp.Defaults.stop_words\n",
    "all_stopwords |= {\"likes\",\"tennis\",}\n",
    "\n",
    "text = \"Nick likes to play football, however he is not too fond of tennis.\"\n",
    "text_tokens = word_tokenize(text)\n",
    "tokens_without_sw = [word for word in text_tokens if not word in all_stopwords]\n",
    "\n",
    "print(tokens_without_sw)"
   ]
  },
  {
   "cell_type": "code",
   "execution_count": 32,
   "id": "automated-intensity",
   "metadata": {},
   "outputs": [
    {
     "name": "stdout",
     "output_type": "stream",
     "text": [
      "['Nick', 'play', 'football', ',', 'not', 'fond', '.']\n"
     ]
    }
   ],
   "source": [
    "import spacy\n",
    "sp = spacy.load('en_core_web_sm')\n",
    "\n",
    "all_stopwords = sp.Defaults.stop_words\n",
    "all_stopwords.remove('not')\n",
    "\n",
    "text = \"Nick likes to play football, however he is not too fond of tennis.\"\n",
    "text_tokens = word_tokenize(text)\n",
    "tokens_without_sw = [word for word in text_tokens if not word in all_stopwords]\n",
    "\n",
    "print(tokens_without_sw)"
   ]
  },
  {
   "cell_type": "code",
   "execution_count": null,
   "id": "underlying-assurance",
   "metadata": {},
   "outputs": [],
   "source": []
  }
 ],
 "metadata": {
  "kernelspec": {
   "display_name": "Python 3",
   "language": "python",
   "name": "python3"
  },
  "language_info": {
   "codemirror_mode": {
    "name": "ipython",
    "version": 3
   },
   "file_extension": ".py",
   "mimetype": "text/x-python",
   "name": "python",
   "nbconvert_exporter": "python",
   "pygments_lexer": "ipython3",
   "version": "3.8.7"
  }
 },
 "nbformat": 4,
 "nbformat_minor": 5
}
